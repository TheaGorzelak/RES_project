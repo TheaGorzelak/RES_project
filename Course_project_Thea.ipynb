{
 "cells": [
  {
   "cell_type": "markdown",
   "id": "70a8824b",
   "metadata": {},
   "source": [
    "<h1>Renewable Energy Systems course project</h1> \n",
    "\n",
    "Done for the Netherlands. "
   ]
  },
  {
   "cell_type": "code",
   "execution_count": 206,
   "id": "db9f079f",
   "metadata": {},
   "outputs": [],
   "source": [
    "import pypsa\n",
    "import pandas as pd"
   ]
  },
  {
   "cell_type": "markdown",
   "id": "546b6ec1",
   "metadata": {},
   "source": [
    "<h3>A - calculate optimal capacities for renewable and non-renewable generators</h3>\n",
    "Plot the dispatch time series for a week in summer and winter. Plot the annual electricity mix. Use the duration curves or the capacity factor to investigate the contribution from different technologies. \n",
    "\n",
    "The Netherlands only has one bidding zone, so there will only be added one node, so the network will only have one bus. The network is created. "
   ]
  },
  {
   "cell_type": "code",
   "execution_count": 207,
   "id": "0fcb3261",
   "metadata": {},
   "outputs": [
    {
     "data": {
      "text/plain": [
       "DatetimeIndex(['2015-01-01 00:00:00+00:00', '2015-01-01 01:00:00+00:00',\n",
       "               '2015-01-01 02:00:00+00:00', '2015-01-01 03:00:00+00:00',\n",
       "               '2015-01-01 04:00:00+00:00', '2015-01-01 05:00:00+00:00',\n",
       "               '2015-01-01 06:00:00+00:00', '2015-01-01 07:00:00+00:00',\n",
       "               '2015-01-01 08:00:00+00:00', '2015-01-01 09:00:00+00:00',\n",
       "               ...\n",
       "               '2015-12-31 14:00:00+00:00', '2015-12-31 15:00:00+00:00',\n",
       "               '2015-12-31 16:00:00+00:00', '2015-12-31 17:00:00+00:00',\n",
       "               '2015-12-31 18:00:00+00:00', '2015-12-31 19:00:00+00:00',\n",
       "               '2015-12-31 20:00:00+00:00', '2015-12-31 21:00:00+00:00',\n",
       "               '2015-12-31 22:00:00+00:00', '2015-12-31 23:00:00+00:00'],\n",
       "              dtype='datetime64[ns, tzutc()]', name='snapshot', length=8760, freq='H')"
      ]
     },
     "execution_count": 207,
     "metadata": {},
     "output_type": "execute_result"
    }
   ],
   "source": [
    "networkN = pypsa.Network()        #Netherlands network\n",
    "hours_2015 = pd.date_range('2015-01-01t00:00Z','2015-12-31T23:00Z',freq='H')\n",
    "networkN.set_snapshots(hours_2015)\n",
    "\n",
    "networkN.add(\"Bus\",\"electricity bus\")\n",
    "\n",
    "networkN.snapshots"
   ]
  },
  {
   "cell_type": "markdown",
   "id": "590137dd",
   "metadata": {},
   "source": [
    "The demand is represented by the historical electricity demand in 2015 for each hour. "
   ]
  },
  {
   "cell_type": "code",
   "execution_count": 208,
   "id": "c6546255",
   "metadata": {},
   "outputs": [
    {
     "name": "stdout",
     "output_type": "stream",
     "text": [
      "utc_time\n",
      "2015-01-01 00:00:00+00:00    11338.0\n",
      "2015-01-01 01:00:00+00:00    10917.0\n",
      "2015-01-01 02:00:00+00:00    10473.0\n",
      "2015-01-01 03:00:00+00:00    10200.0\n",
      "2015-01-01 04:00:00+00:00    10182.0\n",
      "Name: NLD, dtype: float64\n"
     ]
    }
   ],
   "source": [
    "demand_el = pd.read_csv('data/electricity_demand.csv',sep=';',index_col=0) #[MWh] Hourly electricity demand 2015\n",
    "demand_el.index = pd.to_datetime(demand_el.index) #Convert string Date time into Python date time object\n",
    "print(demand_el['NLD'].head())"
   ]
  },
  {
   "cell_type": "markdown",
   "id": "104944eb",
   "metadata": {},
   "source": [
    "The load / demand of NLD is now added to the bus. "
   ]
  },
  {
   "cell_type": "code",
   "execution_count": 209,
   "id": "fae3b5f8",
   "metadata": {},
   "outputs": [],
   "source": [
    "networkN.add(\"Load\",\n",
    "             \"load\",\n",
    "             bus=\"electricity bus\",\n",
    "             p_set = demand_el['NLD'])"
   ]
  },
  {
   "cell_type": "markdown",
   "id": "113395a1",
   "metadata": {},
   "source": [
    "In order to check that the load time series has been properly added, it is printed below"
   ]
  },
  {
   "cell_type": "code",
   "execution_count": 210,
   "id": "0f533d51",
   "metadata": {},
   "outputs": [
    {
     "data": {
      "text/html": [
       "<div>\n",
       "<style scoped>\n",
       "    .dataframe tbody tr th:only-of-type {\n",
       "        vertical-align: middle;\n",
       "    }\n",
       "\n",
       "    .dataframe tbody tr th {\n",
       "        vertical-align: top;\n",
       "    }\n",
       "\n",
       "    .dataframe thead th {\n",
       "        text-align: right;\n",
       "    }\n",
       "</style>\n",
       "<table border=\"1\" class=\"dataframe\">\n",
       "  <thead>\n",
       "    <tr style=\"text-align: right;\">\n",
       "      <th>Load</th>\n",
       "      <th>load</th>\n",
       "    </tr>\n",
       "    <tr>\n",
       "      <th>snapshot</th>\n",
       "      <th></th>\n",
       "    </tr>\n",
       "  </thead>\n",
       "  <tbody>\n",
       "    <tr>\n",
       "      <th>2015-01-01 00:00:00+00:00</th>\n",
       "      <td>11338.0</td>\n",
       "    </tr>\n",
       "    <tr>\n",
       "      <th>2015-01-01 01:00:00+00:00</th>\n",
       "      <td>10917.0</td>\n",
       "    </tr>\n",
       "    <tr>\n",
       "      <th>2015-01-01 02:00:00+00:00</th>\n",
       "      <td>10473.0</td>\n",
       "    </tr>\n",
       "    <tr>\n",
       "      <th>2015-01-01 03:00:00+00:00</th>\n",
       "      <td>10200.0</td>\n",
       "    </tr>\n",
       "    <tr>\n",
       "      <th>2015-01-01 04:00:00+00:00</th>\n",
       "      <td>10182.0</td>\n",
       "    </tr>\n",
       "    <tr>\n",
       "      <th>...</th>\n",
       "      <td>...</td>\n",
       "    </tr>\n",
       "    <tr>\n",
       "      <th>2015-12-31 19:00:00+00:00</th>\n",
       "      <td>12958.0</td>\n",
       "    </tr>\n",
       "    <tr>\n",
       "      <th>2015-12-31 20:00:00+00:00</th>\n",
       "      <td>12263.0</td>\n",
       "    </tr>\n",
       "    <tr>\n",
       "      <th>2015-12-31 21:00:00+00:00</th>\n",
       "      <td>11772.0</td>\n",
       "    </tr>\n",
       "    <tr>\n",
       "      <th>2015-12-31 22:00:00+00:00</th>\n",
       "      <td>11563.0</td>\n",
       "    </tr>\n",
       "    <tr>\n",
       "      <th>2015-12-31 23:00:00+00:00</th>\n",
       "      <td>11373.0</td>\n",
       "    </tr>\n",
       "  </tbody>\n",
       "</table>\n",
       "<p>8760 rows × 1 columns</p>\n",
       "</div>"
      ],
      "text/plain": [
       "Load                          load\n",
       "snapshot                          \n",
       "2015-01-01 00:00:00+00:00  11338.0\n",
       "2015-01-01 01:00:00+00:00  10917.0\n",
       "2015-01-01 02:00:00+00:00  10473.0\n",
       "2015-01-01 03:00:00+00:00  10200.0\n",
       "2015-01-01 04:00:00+00:00  10182.0\n",
       "...                            ...\n",
       "2015-12-31 19:00:00+00:00  12958.0\n",
       "2015-12-31 20:00:00+00:00  12263.0\n",
       "2015-12-31 21:00:00+00:00  11772.0\n",
       "2015-12-31 22:00:00+00:00  11563.0\n",
       "2015-12-31 23:00:00+00:00  11373.0\n",
       "\n",
       "[8760 rows x 1 columns]"
      ]
     },
     "execution_count": 210,
     "metadata": {},
     "output_type": "execute_result"
    }
   ],
   "source": [
    "networkN.loads_t.p_set      #[MWh]"
   ]
  },
  {
   "cell_type": "markdown",
   "id": "54474fa5",
   "metadata": {},
   "source": [
    "Will minimize the annualized system costs. \n",
    "\n",
    "Will build a function to calculate a constant annuity / capital recovery factor. "
   ]
  },
  {
   "cell_type": "code",
   "execution_count": 211,
   "id": "af3c7f42",
   "metadata": {},
   "outputs": [],
   "source": [
    "def annuity(n,r):\n",
    "    \"\"\"Calculating the CRF for an asset with lifetime of n years and discount \n",
    "    rate of r, e.g. annuity(20,0.05)*20=1.6\"\"\"\n",
    "    if r > 0:\n",
    "        return r/(1.-1./(1.+r)**n)\n",
    "    else:\n",
    "        return 1/n"
   ]
  },
  {
   "cell_type": "markdown",
   "id": "7ecf16a8",
   "metadata": {},
   "source": [
    "Electricity generation stats for the Netherlands is based on stats from 2016: https://www.worldometers.info/electricity/netherlands-electricity/\n",
    "\n",
    "<ol>\n",
    "  <li>Fossil fuels - 81 %</li>\n",
    "  <li>Wind - 7,48 %</li>\n",
    "  <li>Biomass and Waste - 6.05 %</li>\n",
    "  <li>Nuclear - 3 %</li>\n",
    "  <li>Solar - 1,43 %</li>\n",
    "</ol>\n",
    "\n",
    "This model will include the generators from the list above\n",
    "\n",
    "The cost assumed are the same as in paper https://arxiv.org/pdf/1906.06936.pdf (estimates for 2030)\n"
   ]
  },
  {
   "cell_type": "code",
   "execution_count": 212,
   "id": "24100aaa",
   "metadata": {},
   "outputs": [],
   "source": [
    "# adding the five different carriers\n",
    "networkN.add(\"Carrier\",\"gas\",co2_emissions=0.19)  #[tCO2/MWh_th] From article\n",
    "networkN.add(\"Carrier\",\"onshorewind\")  #70 % is onshore\n",
    "networkN.add(\"Carrier\",\"biomass\")\n",
    "networkN.add(\"Carrier\",\"nuclear\")\n",
    "networkN.add(\"Carrier\",\"solar\")"
   ]
  },
  {
   "cell_type": "code",
   "execution_count": 213,
   "id": "0bf6dc98",
   "metadata": {},
   "outputs": [],
   "source": [
    "# Adding fossil fuels (OCGT - Open Cycle Gas Turbine) generator \n",
    "n_OCGT = 25    #Lifetime gas turbine\n",
    "r_OCGT = 0.07     #Discount rate gas turbine\n",
    "Cap_OCGT = 560000  #Overnight cost gas turbine\n",
    "FOM_OCGT = 0.033    #Fixed operation and maintenance onshorewind\n",
    "capital_cost_OCGT = annuity(n_OCGT,r_onshorewind)*Cap_OCGT*(1+FOM_OCGT) # in €/MW\n",
    "fuel_cost = 21.6   # in euro/MWh_th\n",
    "efficiency_OCGT = 0.39\n",
    "marginal_cost_OCGT = fuel_cost/efficiency_OCGT   #in euro/MWh_el\n",
    "\n",
    "networkN.add(\"Generator\",\n",
    "            \"OCGT\",\n",
    "            bus=\"electricity bus\",\n",
    "            p_nom_extendable=True,\n",
    "            carrier=\"gas\",\n",
    "            capital_cost = capital_cost_OCGT,\n",
    "            marginal_cost = marginal_cost_OCGT)\n"
   ]
  },
  {
   "cell_type": "code",
   "execution_count": 214,
   "id": "cf6d5c48",
   "metadata": {},
   "outputs": [],
   "source": [
    "# Adding wind generator - doing onshore as this is 70 %\n",
    "onshorewind = pd.read_csv('data/onshore_wind_1979-2017.csv',sep=';', index_col=0) #All CF for onshorewind, all countries\n",
    "onshorewind.index = pd.to_datetime(onshorewind.index) #Convert string Date time into Python date time object\n",
    "CF_onshorewind = onshorewind['NLD'][[hour.strftime(\"%Y-%m-%dT%H:%M:%SZ\") for hour in networkN.snapshots]]\n",
    "n_onshorewind = 30    #Lifetime onshorewind\n",
    "r_onshorewind = 0.07     #Discount rate onshore wind\n",
    "Cap_onshorewind = 910000  #Overnight cost onshorewind\n",
    "FOM_onshorewind = 0.033    #Fixed operation and maintenance onshorewind\n",
    "capital_cost_onshorewind = annuity(n_onshorewind,r_onshorewind)*Cap_onshorewind*(1+FOM_onshorewind) # in €/MW\n",
    "\n",
    "networkN.add(\"Generator\",\n",
    "             \"onshorewind\",\n",
    "              bus=\"electricity bus\",\n",
    "              p_nom_extendable=True,\n",
    "              carrier=\"onshorewind\",\n",
    "              capital_cost = capital_cost_onshorewind,\n",
    "              marginal_cost = 0,\n",
    "              p_max_pu = CF_onshorewind)"
   ]
  },
  {
   "cell_type": "code",
   "execution_count": null,
   "id": "79a3ad7b",
   "metadata": {},
   "outputs": [],
   "source": [
    "# Adding biomass and waste generator \n",
    "n_biomass = 25    #Lifetime biomass \n",
    "r_biomass = 0.07     #Discount rate biomass CHP\n",
    "Cap_biomass = 4910000  #[euro/MW]Overnight cost biomass CHP (avg)\n",
    "FOM_biomass = 0.033    #Fixed operation and maintenance nuclear reactor\n",
    "capital_cost_biomass = annuity(n_biomass,r_biomass)*Cap_biomass*(1+FOM_biomass) # in €/MW\n",
    "marginal_cost_biomass = 0.04*Cap_biomass   #in euro/MWh_el\n",
    "\n",
    "networkN.add(\"Generator\",\n",
    "            \"biomass\",\n",
    "            bus=\"electricity bus\",\n",
    "            p_nom_extendable=True,\n",
    "            carrier=\"biomass\",\n",
    "            capital_cost = capital_cost_biomass,\n",
    "            marginal_cost = marginal_cost_biomass)"
   ]
  },
  {
   "cell_type": "code",
   "execution_count": 215,
   "id": "017081b1",
   "metadata": {},
   "outputs": [],
   "source": [
    "# Adding nuclear generator \n",
    "n_nuclear = 40    #Lifetime nuclear reactor\n",
    "r_nuclear = 0.07     #Discount rate nuclear reactor\n",
    "Cap_nuclear = 3*Cap_OCGT  #Overnight cost nuclear reactor - from source\n",
    "FOM_nuclear = 0.033    #Fixed operation and maintenance nuclear reactor\n",
    "capital_cost_nuclear = annuity(n_nuclear,r_nuclear)*Cap_nuclear*(1+FOM_nuclear) # in €/MW\n",
    "marginal_cost_nuclear = 14   #in euro/MWh_el\n",
    "\n",
    "networkN.add(\"Generator\",\n",
    "            \"nuclear\",\n",
    "            bus=\"electricity bus\",\n",
    "            p_nom_extendable=True,\n",
    "            carrier=\"nuclear\",\n",
    "            capital_cost = capital_cost_nuclear,\n",
    "            marginal_cost = marginal_cost_nuclear)"
   ]
  },
  {
   "cell_type": "code",
   "execution_count": 216,
   "id": "812896b8",
   "metadata": {},
   "outputs": [],
   "source": [
    "# Adding solar PV generator\n",
    "solar = pd.read_csv('data/pv_optimal.csv',sep=';', index_col=0) #All CF for solar, all countries\n",
    "solar.index = pd.to_datetime(solar.index) #Convert string Date time into Python date time object\n",
    "CF_solar = solar['NLD'][[hour.strftime(\"%Y-%m-%dT%H:%M:%SZ\") for hour in networkN.snapshots]]\n",
    "n_solar = 25    #Lifetime solar\n",
    "r_solar = 0.07     #Discount rate solar\n",
    "Cap_solar = 425000  #Overnight cost solar\n",
    "FOM_solar = 0.033    #Fixed operation and maintenance solar\n",
    "capital_cost_solar = annuity(n_solar,r_solar)*Cap_solar*(1+FOM_solar) # in €/MW\n",
    "\n",
    "networkN.add(\"Generator\",\n",
    "             \"solar\",\n",
    "             bus=\"electricity bus\",\n",
    "             p_nom_extendable=True,\n",
    "             carrier=\"solar\",\n",
    "             capital_cost = capital_cost_solar,\n",
    "             marginal_cost = 0,\n",
    "             p_max_pu = CF_solar)"
   ]
  },
  {
   "cell_type": "code",
   "execution_count": null,
   "id": "729a1233",
   "metadata": {},
   "outputs": [],
   "source": []
  }
 ],
 "metadata": {
  "kernelspec": {
   "display_name": "Python 3 (ipykernel)",
   "language": "python",
   "name": "python3"
  },
  "language_info": {
   "codemirror_mode": {
    "name": "ipython",
    "version": 3
   },
   "file_extension": ".py",
   "mimetype": "text/x-python",
   "name": "python",
   "nbconvert_exporter": "python",
   "pygments_lexer": "ipython3",
   "version": "3.9.12"
  }
 },
 "nbformat": 4,
 "nbformat_minor": 5
}
